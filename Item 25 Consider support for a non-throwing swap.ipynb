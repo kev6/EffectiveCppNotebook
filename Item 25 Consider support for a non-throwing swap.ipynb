{
 "cells": [
  {
   "cell_type": "markdown",
   "metadata": {},
   "source": [
    "# Item 25: Consider support for a non-throwing swap"
   ]
  },
  {
   "cell_type": "markdown",
   "metadata": {},
   "source": [
    "## Discussion"
   ]
  },
  {
   "cell_type": "markdown",
   "metadata": {},
   "source": [
    "- C++ STD Template Library std::swap is very powerful but the default implementation is inneficient for certain purposes."
   ]
  },
  {
   "cell_type": "markdown",
   "metadata": {},
   "source": [
    "    namespace std{\n",
    "       template<typename T>\n",
    "       void swap(T& a, T& b)\n",
    "       {\n",
    "          T temp(a);\n",
    "          a = b;\n",
    "          b = temp;\n",
    "       }\n",
    "    }"
   ]
  },
  {
   "cell_type": "markdown",
   "metadata": {},
   "source": [
    "- For specific types, the standard std::swap will be extremely slow. By looking at the code above, you can see that it involves copying three objects.\n",
    "- An example given is a type that consists of the design pattern called Pointer to Implementation[1] design approach.\n",
    "\n",
    "[1]: http://en.cppreference.com/w/cpp/language/pimpl \"Pointer to Implementation\""
   ]
  },
  {
   "cell_type": "markdown",
   "metadata": {},
   "source": [
    "[Difference between Overloading and Specialization][1]\n",
    "- Regular C++ clases do not overload. Class templates do not overload either.\n",
    "- C++ funcitons having the same name do overload. Function templates are allowed to verload.\n",
    "\n",
    "[1]:http://www.gotw.ca/publications/mill17.htm \"Why not Specialize Funtion Templates\""
   ]
  },
  {
   "cell_type": "markdown",
   "metadata": {},
   "source": [
    "### Code"
   ]
  },
  {
   "cell_type": "markdown",
   "metadata": {},
   "source": [
    "---"
   ]
  },
  {
   "cell_type": "markdown",
   "metadata": {},
   "source": [
    "## Example"
   ]
  },
  {
   "cell_type": "code",
   "execution_count": 7,
   "metadata": {},
   "outputs": [
    {
     "data": {
      "text/plain": []
     },
     "execution_count": 7,
     "metadata": {},
     "output_type": "execute_result"
    }
   ],
   "source": [
    "#include <vector>\n",
    "#include <iostream>\n",
    "#include <algorithm>\n",
    "#include <string>\n",
    "#include <cstdlib>\n",
    "#include <cxxabi.h>"
   ]
  },
  {
   "cell_type": "code",
   "execution_count": 8,
   "metadata": {},
   "outputs": [
    {
     "data": {
      "text/plain": []
     },
     "execution_count": 8,
     "metadata": {},
     "output_type": "execute_result"
    }
   ],
   "source": [
    "namespace WidgetStuff {\n",
    "    template<typename T>\n",
    "    class WidgetImpl {\n",
    "    private:\n",
    "        std::vector<T> v;\n",
    "    };\n",
    "\n",
    "    template<typename T>\n",
    "    class Widget {\n",
    "    public:\n",
    "        std::string type_name()\n",
    "        {\n",
    "            int status;\n",
    "            std::string tname = typeid(T).name();\n",
    "            char *demangled_name = abi::__cxa_demangle(tname.c_str(), NULL, NULL, &status);\n",
    "            if(status == 0) {\n",
    "                tname = demangled_name;\n",
    "                std::free(demangled_name);\n",
    "            }   \n",
    "            return tname;\n",
    "        }\n",
    "    \n",
    "        Widget &operator=(const Widget &rhs) {\n",
    "            *pImpl = *(rhs.pImpl);\n",
    "            return *this;\n",
    "        }\n",
    "\n",
    "        void swap(Widget &other) {\n",
    "            std::cout << \"Widget::swap\\n\";\n",
    "            using std::swap;\n",
    "            swap(pImpl, other.pImpl);\n",
    "        }\n",
    "\n",
    "    private:\n",
    "        WidgetImpl<T> *pImpl;\n",
    "    };\n",
    "\n",
    "    template<typename T>\n",
    "    void swap(Widget<T> &a, Widget<T> &b) {\n",
    "        std::cout << \"Widget::swap(Widget<T>& a, Widget<T>& b)\\n\";\n",
    "        a.swap(b);\n",
    "    }\n",
    "      \n",
    "}"
   ]
  },
  {
   "cell_type": "code",
   "execution_count": 9,
   "metadata": {},
   "outputs": [
    {
     "data": {
      "text/plain": []
     },
     "execution_count": 9,
     "metadata": {},
     "output_type": "execute_result"
    }
   ],
   "source": [
    "template <typename T>\n",
    "void doSomething(T& obj1, T& obj2)\n",
    "{\n",
    "  using std::swap;           // make std::swap available in this function\n",
    "  swap(obj1, obj2);          // call the best swap for objects of type T\n",
    "}"
   ]
  },
  {
   "cell_type": "code",
   "execution_count": 10,
   "metadata": {},
   "outputs": [
    {
     "data": {
      "text/plain": []
     },
     "execution_count": 10,
     "metadata": {},
     "output_type": "execute_result"
    }
   ],
   "source": [
    "WidgetStuff::Widget<double> a;\n",
    "WidgetStuff::Widget<double> b;"
   ]
  },
  {
   "cell_type": "code",
   "execution_count": 11,
   "metadata": {},
   "outputs": [
    {
     "name": "stdout",
     "output_type": "stream",
     "text": [
      "Widget::swap(Widget<T>& a, Widget<T>& b)\n",
      "Widget::swap\n"
     ]
    },
    {
     "data": {
      "text/plain": [
       "(void) @0x7f9a39ff9c10\n"
      ]
     },
     "execution_count": 11,
     "metadata": {},
     "output_type": "execute_result"
    }
   ],
   "source": [
    "doSomething(a,b);"
   ]
  },
  {
   "cell_type": "code",
   "execution_count": 12,
   "metadata": {},
   "outputs": [
    {
     "name": "stdout",
     "output_type": "stream",
     "text": [
      "double\n",
      "double\n"
     ]
    },
    {
     "data": {
      "text/plain": [
       "(std::basic_ostream<char, std::char_traits<char> >::__ostream_type &) @0x7f9a43813420\n"
      ]
     },
     "execution_count": 12,
     "metadata": {},
     "output_type": "execute_result"
    }
   ],
   "source": [
    "std::cout << a.type_name() << std::endl;\n",
    "std::cout << b.type_name() << std::endl;"
   ]
  },
  {
   "cell_type": "markdown",
   "metadata": {},
   "source": [
    "## Things to Remember"
   ]
  },
  {
   "cell_type": "markdown",
   "metadata": {},
   "source": [
    "- Provide a swap member function when std:: swap would be inefficient for your type. Make sure your swap doesn't throw exceptions.\n",
    "- If you offer a member swap, also offer a non-member swap that calls the member. For classes (not templates), sepcialize std::swap, too.\n",
    "- When calling swap, employ a using declaration for std::swap, then call swap without nespace qualification..\n",
    "- It's fine to totally specialize std templates for user-deined types, but never try to add something completely new to std."
   ]
  },
  {
   "cell_type": "markdown",
   "metadata": {},
   "source": [
    "## Sources "
   ]
  },
  {
   "cell_type": "markdown",
   "metadata": {},
   "source": [
    "1. [Why not Specialize Funtion Templates](http://www.gotw.ca/publications/mill17.htm) \n",
    "2. [Pointer to implementation - PImpl](http://en.cppreference.com/w/cpp/language/pimpl)"
   ]
  },
  {
   "cell_type": "code",
   "execution_count": null,
   "metadata": {},
   "outputs": [],
   "source": []
  }
 ],
 "metadata": {
  "kernelspec": {
   "display_name": "C++11",
   "language": "C++",
   "name": "cling-cpp11"
  },
  "language_info": {
   "codemirror_mode": "c++",
   "file_extension": ".c++",
   "mimetype": "text/x-c++src",
   "name": "c++"
  }
 },
 "nbformat": 4,
 "nbformat_minor": 2
}
