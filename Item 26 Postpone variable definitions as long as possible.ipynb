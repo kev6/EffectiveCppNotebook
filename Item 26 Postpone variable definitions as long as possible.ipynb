{
 "cells": [
  {
   "cell_type": "markdown",
   "metadata": {},
   "source": [
    "# Item 26: Postpone variable definitions as long as po ssible."
   ]
  },
  {
   "cell_type": "markdown",
   "metadata": {},
   "source": [
    "## Discussion"
   ]
  },
  {
   "cell_type": "markdown",
   "metadata": {},
   "source": [
    "- You can incur the cost of construction when control reaches the variable's defintion.\n",
    "- Postponing the definition allows for a 'tighter' and 'cleaner' implementation.\n",
    "- By postponing, the definition, you avoid consttruction and destructing unneeded objects, and you oavoid unneccssary defaultconstructors.\n",
    "- An example of that is if an exception were to be thrown AFTER variable or object construction."
   ]
  },
  {
   "cell_type": "markdown",
   "metadata": {},
   "source": [
    "This function defines the variable \"encrypted\" too soon"
   ]
  },
  {
   "cell_type": "code",
   "execution_count": null,
   "metadata": {},
   "outputs": [],
   "source": [
    "std::string encryptPassword(const sdtd::string& password)\n",
    "{\n",
    "    using namespace std;\n",
    "\n",
    "    string encrypted; // this guy is constructed too early. It is unused if an exception is thrown\n",
    "\n",
    "    if (password.length() < MinimumPasswordLength) {\n",
    "        throw logic_error(\"Password is too short\");\n",
    "    }\n",
    "    \n",
    "    return encrypted;\n",
    "}"
   ]
  },
  {
   "cell_type": "markdown",
   "metadata": {},
   "source": [
    "This is the best way to define and initialize encrypted"
   ]
  },
  {
   "cell_type": "markdown",
   "metadata": {},
   "source": [
    "## Things to Remember"
   ]
  },
  {
   "cell_type": "code",
   "execution_count": null,
   "metadata": {},
   "outputs": [],
   "source": [
    "std::string encryptPassword(const std::string& password)\n",
    "{\n",
    "    string encrypted(password);/\n",
    "    \n",
    "    encrypt(encrypted);\n",
    "    return encrypted;\n",
    "}"
   ]
  },
  {
   "cell_type": "markdown",
   "metadata": {},
   "source": [
    "- Postpone variable definitinos as long as possible. It increases program clairty and improves program efficiency"
   ]
  },
  {
   "cell_type": "code",
   "execution_count": null,
   "metadata": {},
   "outputs": [],
   "source": []
  }
 ],
 "metadata": {
  "kernelspec": {
   "display_name": "C++11",
   "language": "C++",
   "name": "cling-cpp11"
  },
  "language_info": {
   "codemirror_mode": "c++",
   "file_extension": ".c++",
   "mimetype": "text/x-c++src",
   "name": "c++"
  }
 },
 "nbformat": 4,
 "nbformat_minor": 2
}
